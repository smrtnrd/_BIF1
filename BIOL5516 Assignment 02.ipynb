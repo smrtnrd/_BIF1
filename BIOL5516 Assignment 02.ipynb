{
 "cells": [
  {
   "cell_type": "markdown",
   "metadata": {},
   "source": [
    "# BIOL5516 Assignment 02\n",
    "\n",
    "#### Created :  *Berthin  Bitja*\n",
    "\n",
    "\n",
    "### Note :\n",
    "For each of the following questions, please submit your code and a screenshot of the output. Note that for some questions, there are better (or worse) ways to accomplish a task, and that you should try to find the best solution! Please use comments to indicate which question you are addressing, and to describe what you are doing."
   ]
  },
  {
   "cell_type": "markdown",
   "metadata": {},
   "source": [
    "### Ex1\n",
    "\n",
    "Write a program that checks the length of each element of the following array. If the length is an even number, print “Even Steven!”. If it is an odd number, print “Odd Todd!”. (Hint: you might want to look up the “modulo (%)” operator in Python)\n",
    "\n",
    "[“Arthur”, “Ford”, “Trillian”, “Zaphod”, “Marvin”, “Eddie”] "
   ]
  },
  {
   "cell_type": "code",
   "execution_count": 5,
   "metadata": {
    "collapsed": false
   },
   "outputs": [
    {
     "name": "stdout",
     "output_type": "stream",
     "text": [
      "\n",
      "Even Arthur\n",
      "\n",
      "Even Ford\n",
      "\n",
      "Even Trillian\n",
      "\n",
      "Even Zaphod\n",
      "\n",
      "Even Marvin\n",
      "\n",
      "Odd Eddie\n"
     ]
    }
   ],
   "source": [
    "words = ['Arthur', 'Ford', 'Trillian', 'Zaphod', 'Marvin', 'Eddie'] \n",
    " \n",
    "for word in words :\n",
    "    if len(word)%2 == 0 :\n",
    "        print \"\\nEven \" + word\n",
    "    else :\n",
    "        print \"\\nOdd \" + word"
   ]
  },
  {
   "cell_type": "markdown",
   "metadata": {},
   "source": [
    "### Ex2\n",
    "\n",
    "Consider the following string:\n",
    "\n",
    "‘Arthur blinked at the screens and felt he was missing something important. Suddenly he realized what it was. “Is there any tea on this spaceship?” he asked.’\n"
   ]
  },
  {
   "cell_type": "code",
   "execution_count": 18,
   "metadata": {
    "collapsed": false
   },
   "outputs": [
    {
     "name": "stdout",
     "output_type": "stream",
     "text": [
      "there are 26 matches\n"
     ]
    }
   ],
   "source": [
    "s = 'Arthur blinked at the screens and felt he was missing something important. Suddenly he realized what it was. \"Is there any tea on this spaceship?\" he asked.' \n",
    "\n",
    "# Using regular expressions, answer the following questions. \n",
    "# Make sure to check for the “no match” case. \n",
    "\n",
    "import re\n",
    "# matchObject = re.search(pattern, input_str, flags=0)\n",
    "\n",
    "# (a)\tHow many whitespaces are there in the string? \n",
    "\n",
    "regex = r\"(\\s)\"\n",
    "match = re.findall(regex, s, flags=0)\n",
    "\n",
    "print \"there are \" + str(len(match)) + \" matches\"\n"
   ]
  },
  {
   "cell_type": "code",
   "execution_count": 20,
   "metadata": {
    "collapsed": false
   },
   "outputs": [
    {
     "name": "stdout",
     "output_type": "stream",
     "text": [
      "there are 2 matches\n"
     ]
    }
   ],
   "source": [
    "# (b)\tHow many matches are there to an ‘i’ followed by at least one ‘s’? Perform this search case insensitively. \n",
    "\n",
    "regex = r\"(is+)\"\n",
    "match = re.findall(regex, s, flags=0)\n",
    "\n",
    "print \"there are \" + str(len(match)) + \" matches\""
   ]
  },
  {
   "cell_type": "code",
   "execution_count": 21,
   "metadata": {
    "collapsed": false
   },
   "outputs": [
    {
     "name": "stdout",
     "output_type": "stream",
     "text": [
      "Arthur blsnked at the screens and felt he was mssssng somethsng smportant. Suddenly he realszed what st was. \"Is there any tea on thss spaceshsp?\" he asked.\n"
     ]
    }
   ],
   "source": [
    "# (c)\tReplace every “i” with an “e” and print out the new string. \n",
    "match = re.sub('i', 's', s)\n",
    "print match"
   ]
  },
  {
   "cell_type": "code",
   "execution_count": 26,
   "metadata": {
    "collapsed": false
   },
   "outputs": [
    {
     "name": "stdout",
     "output_type": "stream",
     "text": [
      "Arthur\n",
      "blinked\n",
      "at\n",
      "the\n",
      "screens\n",
      "and\n",
      "felt\n",
      "he\n",
      "was\n",
      "missing\n",
      "something\n",
      "important.\n",
      "Suddenly\n",
      "he\n",
      "realized\n",
      "what\n",
      "it\n",
      "was.\n",
      "\"Is\n",
      "there\n",
      "any\n",
      "tea\n",
      "on\n",
      "this\n",
      "spaceship?\"\n",
      "he\n",
      "asked.\n"
     ]
    }
   ],
   "source": [
    "# (d)\tSplit the string into sentences, and print each sentence out on a different line\n",
    "match = re.split(\" \", s)\n",
    "for i in match:\n",
    "    print i"
   ]
  },
  {
   "cell_type": "markdown",
   "metadata": {},
   "source": [
    "### Ex3 \n",
    "\n",
    "Here is a list of fruits: \n",
    " \n",
    "    [‘apple’, ‘strawberry’, ‘banana’, ‘kiwi’]\n",
    "\n",
    "And a list of vegetables: \n",
    " \n",
    "    [‘carrots’, ‘celery’, ‘broccoli’] \n",
    " \n",
    "And a list of sandwiches: \n",
    "\n",
    "    [‘pbj’, ‘blt’, ‘ham’, ‘hummus’] \n",
    "\n",
    "I would like my lunch to contain either a fruit or a vegetable, and a sandwich. Write a program to evaluate whether the following lunches are acceptable: \n"
   ]
  },
  {
   "cell_type": "code",
   "execution_count": 45,
   "metadata": {
    "collapsed": false
   },
   "outputs": [
    {
     "name": "stdout",
     "output_type": "stream",
     "text": [
      "1\n",
      "1\n",
      "1\n",
      "1\n",
      "1\n"
     ]
    }
   ],
   "source": [
    "fruits = ['apple', 'strawberry', 'banana', 'kiwi']\n",
    "vegetables = ['carrots', 'celery', 'broccoli'] \n",
    "sandwiches = ['pbj', 'blt', 'ham', 'hummus'] \n",
    "\n",
    "\n",
    "l1 = ['apple', 'strawberry', 'banana'] \n",
    "l2 = ['pbj', 'apple'] \n",
    "l3 = ['pbj', 'carrots'] \n",
    "l4 = ['ham', 'blt', 'hummus'] \n",
    "l5 = ['hummus', 'apple'] \n",
    "\n",
    "lunchs = [l1,l2,l3,l4,l5]\n",
    "\n",
    "for lunch in lunchs :\n",
    "    m = 0;\n",
    "    for l in lunch :\n",
    "        if l in fruits or l in vegetables :\n",
    "            m=+1\n",
    "        if l in sandwiches :\n",
    "            m=+1\n",
    "    print m"
   ]
  },
  {
   "cell_type": "code",
   "execution_count": null,
   "metadata": {
    "collapsed": true
   },
   "outputs": [],
   "source": []
  }
 ],
 "metadata": {
  "kernelspec": {
   "display_name": "Python 2",
   "language": "python",
   "name": "python2"
  },
  "language_info": {
   "codemirror_mode": {
    "name": "ipython",
    "version": 2
   },
   "file_extension": ".py",
   "mimetype": "text/x-python",
   "name": "python",
   "nbconvert_exporter": "python",
   "pygments_lexer": "ipython2",
   "version": "2.7.11"
  }
 },
 "nbformat": 4,
 "nbformat_minor": 0
}
