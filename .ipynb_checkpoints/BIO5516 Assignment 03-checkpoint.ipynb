{
 "cells": [
  {
   "cell_type": "markdown",
   "metadata": {
    "collapsed": true
   },
   "source": [
    "# BIOL5516 Assignment 03\n",
    "\n",
    "#### Created :  *Berthin  Bitja*\n",
    "\n",
    "\n",
    "### Note :\n",
    "For each of the following questions, please submit your code and a screenshot of the output. Note that for some questions, there are better (or worse) ways to accomplish a task, and that you should try to find the best solution! Please use comments to indicate which question you are addressing, and to describe what you are doing."
   ]
  },
  {
   "cell_type": "markdown",
   "metadata": {},
   "source": [
    "### Ex1\n",
    "\n",
    "Write a program that uses a dictionary to store the author names for five different books. The program should ask the user for the name of a book, and should output the name of the author. Make sure that the user can exit the program, and let the user know if the book s/he has picked isn’t on file.\n"
   ]
  },
  {
   "cell_type": "code",
   "execution_count": 6,
   "metadata": {},
   "outputs": [
    {
     "name": "stdout",
     "output_type": "stream",
     "text": [
      "Hello, what's the name of the book you are looking for: BOOK H\n",
      "Not found\n"
     ]
    }
   ],
   "source": [
    "library = {'BOOK A' :\"Author A\",\n",
    "           'BOOK D': \"Author D\",\n",
    "           'BOOK B':\"Author B\",\n",
    "           'BOOK C' : \"Author C\",\n",
    "           'BOOK E':\"Author E\"}\n",
    "\n",
    "message = \"Hello, what's the name of the book you are looking for: \"\n",
    "book_name = input(message)\n",
    "\n",
    "book_name = book_name.upper()\n",
    "    \n",
    "warning = \"this book  doen't exist in the library\"\n",
    "is_found = False\n",
    "while not is_found :\n",
    "    if book_name == :\n",
    "        print(\"this book was writter by {}\".format(library[book_name]))\n",
    "        break\n",
    "    if book_name in library:\n",
    "        print(\"this book was writter by {}\".format(library[book_name]))\n",
    "        break\n",
    "    else :\n",
    "        print(warning)\n",
    "        break"
   ]
  },
  {
   "cell_type": "markdown",
   "metadata": {},
   "source": [
    "### Ex2\n",
    "\n",
    "Write a program that plays a guessing game with a user. The program should\n",
    "pick a random number between 1 and 10, and then prompt the user to guess\n",
    "the number. It should keep going until the user guesses the correct number,\n",
    "and then output a message congratulating the user. It should also tell the\n",
    "user how many guesses s/he needed to get the right answer."
   ]
  },
  {
   "cell_type": "code",
   "execution_count": 10,
   "metadata": {},
   "outputs": [
    {
     "name": "stdout",
     "output_type": "stream",
     "text": [
      "Pick a number between 1 and 10: 5\n",
      "You have 9 guesses remaining\n",
      "Pick another number between 1 and 10: 9\n",
      "You have 8 guesses remaining\n",
      "Pick another number between 1 and 10: 4\n",
      "You have 7 guesses remaining\n",
      "Pick another number between 1 and 10: 6\n",
      "You have 6 guesses remaining\n",
      "Pick another number between 1 and 10: 1\n",
      "You have 5 guesses remaining\n",
      "Pick another number between 1 and 10: 3\n",
      "You have 4 guesses remaining\n",
      "Pick another number between 1 and 10: 8\n",
      "You have 3 guesses remaining\n",
      "Pick another number between 1 and 10: 7\n",
      "You have 2 guesses remaining\n",
      "Pick another number between 1 and 10: 2\n",
      "You guessed the right number: 2\n",
      "YEEEES !!!! You have 1 guesses remaining\n",
      "Thanks for playing !!!!\n"
     ]
    }
   ],
   "source": [
    "from random import randint\n",
    "\n",
    "guess = False\n",
    "number_of_guess = 10\n",
    "number = randint(1, 10)\n",
    "\n",
    "# initialize the data\n",
    "usr_msg_1 = \"Pick a number between 1 and 10: \"\n",
    "usr_msg_2 = \"Pick another number between 1 and 10: \"\n",
    "\n",
    "user_number = input(usr_msg_1)\n",
    "while not guess:\n",
    "    number_of_guess -= 1\n",
    "    if user_number == number:\n",
    "        print(\"You guessed the right number: {}\".format(user_number))\n",
    "        print(\"YEEEES !!!! You have {} guesses remaining\".format(number_of_guess))\n",
    "        print(\"Thanks for playing !!!!\")\n",
    "        break\n",
    "    if user_number != number and number_of_guess > 0:\n",
    "        print(\"You have {} guesses remaining\".format(number_of_guess))\n",
    "        user_number = int(input(usr_msg_2))\n",
    "    if number_of_guess == 0 :\n",
    "        print(\"sorry no more guess, you lost\")\n",
    "        break\n",
    "    if user_number == 'exit' :\n",
    "        break"
   ]
  },
  {
   "cell_type": "markdown",
   "metadata": {},
   "source": [
    "### Ex3\n",
    "\n",
    "Create a function that takes two arguments: a short DNA motif (e.g., ‘GACA’),\n",
    "and another DNA sequence. The function should report back on whether the\n",
    "motif is found in the DNA sequence. Demonstrate the use of this function by\n",
    "calling it twice: once where the motif is found in the DNA sequence, and once\n",
    "where it isn’t."
   ]
  },
  {
   "cell_type": "code",
   "execution_count": 4,
   "metadata": {},
   "outputs": [
    {
     "name": "stdout",
     "output_type": "stream",
     "text": [
      "The motif TTT is found in aaaaaTTTTaaaTTTTaaat\n",
      "The motif ASD is NOT found in aaaaaTTTTaaaTTTTaaat\n"
     ]
    }
   ],
   "source": [
    "import re\n",
    "import sys\n",
    "\n",
    "def search_seq(short_dna, sequence):\n",
    "    s = re.search( short_dna, sequence, re.I)\n",
    "    if s : # if search() found the motif\n",
    "        dna_1 = \"The motif {}\".format(short_dna)\n",
    "        seq_1 = \" is found in {}\".format(sequence)\n",
    "        print(dna_1 + seq_1)\n",
    "    else:\n",
    "        dna_1 = \"The motif {}\".format(short_dna)\n",
    "        seq_1 = \" is NOT found in {}\".format(sequence)\n",
    "        print(dna_1 + seq_1)\n",
    "\n",
    "#good test\n",
    "short_dna = \"TTT\"\n",
    "sequence = \"aaaaaTTTTaaaTTTTaaat\"\n",
    "search_seq(short_dna, sequence)\n",
    "\n",
    "\n",
    "#bad test\n",
    "short_dna = \"TIT\"\n",
    "sequence = \"aaaaaTTTTaaaTTTTaaat\"\n",
    "search_seq(short_dna, sequence)"
   ]
  },
  {
   "cell_type": "code",
   "execution_count": 6,
   "metadata": {},
   "outputs": [
    {
     "name": "stdout",
     "output_type": "stream",
     "text": [
      "The short dna: ATC\n",
      "Sequence: TGTGATGATGAGATAATCTGGATAGTATC\n",
      "The motif ATC is found in TGTGATGATGAGATAATCTGGATAGTATC\n"
     ]
    }
   ],
   "source": [
    "#test\n",
    "short_dna = input(\"The short dna: \")\n",
    "sequence = input(\"Sequence: \")\n",
    "search_seq(short_dna, sequence)"
   ]
  },
  {
   "cell_type": "markdown",
   "metadata": {},
   "source": [
    "### Ex4\n",
    "\n",
    "Write a function that takes a DNA sequence as an argument, and returns the\n",
    "reverse complement. Your function should be stored in a module, separate\n",
    "from the code that calls it. Make sure to check for non-DNA characters – only\n",
    "‘A’, ‘G’, ‘C’, and ‘T’ should be allowed. Demonstrate the use of this function by\n",
    "calling it with good and bad sequences."
   ]
  },
  {
   "cell_type": "code",
   "execution_count": 15,
   "metadata": {},
   "outputs": [],
   "source": [
    "# file : dna.py\n",
    "def revComp(sequence):\n",
    "    sequence = sequence.upper()\n",
    "    warning = \"This sequence is not valid\"\n",
    "    isValid = re.search(r'^[atcg]+$', sequence, re.I)\n",
    "    complement = {'A':'T', 'C':'G', 'G':'T', 'T':'A'}\n",
    "    if isValid:\n",
    "        result =[]\n",
    "        for i in sequence:\n",
    "            result.append(complement[i])\n",
    "        rev_comp = ''.join(result[::-1])\n",
    "        print(\"The sequence: {}\".format(sequence))\n",
    "        print(\"The rev complement: {}\".format(rev_comp))\n",
    "    else:\n",
    "        print(warning)"
   ]
  },
  {
   "cell_type": "code",
   "execution_count": 16,
   "metadata": {},
   "outputs": [
    {
     "name": "stdout",
     "output_type": "stream",
     "text": [
      "The sequence: ATGGGGACGAGTGCC\n",
      "The rev complement: GGTATTTGTTTTTAT\n",
      "This sequence is not valid\n"
     ]
    }
   ],
   "source": [
    "import re\n",
    "import dna #module with my file\n",
    "from dna import revComp\n",
    "\n",
    "good_seq = \"ATGGGGACGAGTGcC\"\n",
    "bad_seq = \"CCATGAGATGAKLKAMNAA\"\n",
    "\n",
    "revComp(good_seq)\n",
    "revComp(bad_seq)"
   ]
  },
  {
   "cell_type": "code",
   "execution_count": 17,
   "metadata": {},
   "outputs": [
    {
     "name": "stdout",
     "output_type": "stream",
     "text": [
      "Hello, type your dna seq: atgagtcggagagatcggagagatcgaga\n",
      "The sequence: ATGAGTCGGAGAGATCGGAGAGATCGAGA\n",
      "The rev complement: TTTTGATTTTTTTGATTTTTTTGATTTAT\n",
      "Hello, type your dna seq: atataggavvagaggatagv\n",
      "This sequence is not valid\n"
     ]
    }
   ],
   "source": [
    "prmpts = \"Hello, type your dna seq: \"\n",
    "\n",
    "good_seq = input(prmpts)\n",
    "revComp(good_seq)\n",
    "\n",
    "bad_seq = input(prmpts)\n",
    "revComp(bad_seq)"
   ]
  },
  {
   "cell_type": "code",
   "execution_count": null,
   "metadata": {
    "collapsed": true
   },
   "outputs": [],
   "source": []
  }
 ],
 "metadata": {
  "kernelspec": {
   "display_name": "Python 3",
   "language": "python",
   "name": "python3"
  },
  "language_info": {
   "codemirror_mode": {
    "name": "ipython",
    "version": 3
   },
   "file_extension": ".py",
   "mimetype": "text/x-python",
   "name": "python",
   "nbconvert_exporter": "python",
   "pygments_lexer": "ipython3",
   "version": "3.6.2"
  }
 },
 "nbformat": 4,
 "nbformat_minor": 1
}
