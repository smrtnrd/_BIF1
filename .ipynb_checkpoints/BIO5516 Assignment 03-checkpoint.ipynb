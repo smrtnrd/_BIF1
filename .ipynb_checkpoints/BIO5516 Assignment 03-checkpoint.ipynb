{
 "cells": [
  {
   "cell_type": "markdown",
   "metadata": {
    "collapsed": true
   },
   "source": [
    "# BIOL5516 Assignment 03\n",
    "\n",
    "#### Created :  *Berthin  Bitja*\n",
    "\n",
    "\n",
    "### Note :\n",
    "For each of the following questions, please submit your code and a screenshot of the output. Note that for some questions, there are better (or worse) ways to accomplish a task, and that you should try to find the best solution! Please use comments to indicate which question you are addressing, and to describe what you are doing."
   ]
  },
  {
   "cell_type": "markdown",
   "metadata": {},
   "source": [
    "### Ex1\n",
    "\n",
    "Write a program that uses a dictionary to store the author names for five different books. The program should ask the user for the name of a book, and should output the name of the author. Make sure that the user can exit the program, and let the user know if the book s/he has picked isn’t on file.\n"
   ]
  },
  {
   "cell_type": "code",
   "execution_count": 5,
   "metadata": {
    "collapsed": true
   },
   "outputs": [],
   "source": [
    "library = {'BOOK A' :\"Author A\",\n",
    "           'BOOK D': \"Author D\",\n",
    "           'BOOK B':\"Author B\",\n",
    "           'BOOK C' : \"Author C\",\n",
    "           'BOOK E':\"Author E\"}\n",
    "\n",
    "user_input = str(raw_input(\"Hello, what's the name of the book you are looking for: \"))\n",
    "message = \"Not found\"\n",
    "book_name = user_input.upper()\n",
    "is_found = False\n",
    "\n",
    "while not is_found :\n",
    "    if library.has_key(book_name) :\n",
    "        print(\"this book was writter by \" + library[book_name])\n",
    "        is_found = True\n",
    "    else :\n",
    "        print (message)\n",
    "        break\n"
   ]
  },
  {
   "cell_type": "markdown",
   "metadata": {},
   "source": [
    "### Ex2\n",
    "\n",
    "Write a program that plays a guessing game with a user. The program should pick a random number between 1 and 10, and then prompt the user to guess the number. It should keep going until the user guesses the correct number, and then output a message congratulating the user. It should also tell the user how many guesses s/he needed to get the right answer."
   ]
  },
  {
   "cell_type": "code",
   "execution_count": 5,
   "metadata": {
    "collapsed": true
   },
   "outputs": [],
   "source": []
  },
  {
   "cell_type": "code",
   "execution_count": null,
   "metadata": {
    "collapsed": true
   },
   "outputs": [],
   "source": []
  }
 ],
 "metadata": {
  "kernelspec": {
   "display_name": "Python 3",
   "language": "python",
   "name": "python3"
  },
  "language_info": {
   "codemirror_mode": {
    "name": "ipython",
    "version": 3
   },
   "file_extension": ".py",
   "mimetype": "text/x-python",
   "name": "python",
   "nbconvert_exporter": "python",
   "pygments_lexer": "ipython3",
   "version": "3.6.1"
  }
 },
 "nbformat": 4,
 "nbformat_minor": 1
}
