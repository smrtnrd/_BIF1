{
 "cells": [
  {
   "cell_type": "markdown",
   "metadata": {},
   "source": [
    "# BIOL5516\n",
    "\n",
    "### Note :\n",
    "For each of the following questions, please submit your code and a screenshot of the output. Note that for some questions, there are better (or worse) ways to accomplish a task, and that you should try to find the best solution! Please use comments to indicate which question you are addressing, and to describe what you are doing."
   ]
  },
  {
   "cell_type": "markdown",
   "metadata": {},
   "source": [
    "### Ex 1"
   ]
  },
  {
   "cell_type": "code",
   "execution_count": 27,
   "metadata": {
    "collapsed": false
   },
   "outputs": [
    {
     "name": "stdout",
     "output_type": "stream",
     "text": [
      "Pink fairy armadillo is one of my favourite creatures!\n",
      "Okapi is one of my favourite creatures!\n",
      "Glaucus atlanticus is one of my favourite creatures!\n",
      "The maned wolf is one of my favourite creatures!\n",
      "Fossa is one of my favourite creatures!\n",
      "Japanese spider crab is one of my favourite creatures!\n",
      "Pacu fish is one of my favourite creatures!\n",
      "Slow loris is one of my favourite creatures!\n"
     ]
    }
   ],
   "source": [
    "# a. Make a list of your 8 favourite organisms, \n",
    "favourite creatures!”.\n",
    "organisms = ['Pink Fairy Armadillo',\n",
    "             'Okapi',\n",
    "             'Glaucus Atlanticus', \n",
    "             'The Maned Wolf', \n",
    "             'Fossa',\n",
    "             'Japanese Spider Crab',\n",
    "             'Pacu Fish',\n",
    "             'Slow Loris']\n",
    "\n",
    "# lower all the letters\n",
    "o_lower = [ o.lower() for o in organisms ]\n",
    "# capitalizing the first letter of each.                \n",
    "o_cap = [ (o[:1].upper() + o[1:]) for o in o_lower]\n",
    "\n",
    "# Print out the name of each organism, followed by “ is one of my favourite creatures!”.\n",
    "for o in o_cap :\n",
    "    print o + ' is one of my favourite creatures!' "
   ]
  },
  {
   "cell_type": "code",
   "execution_count": 28,
   "metadata": {
    "collapsed": false
   },
   "outputs": [
    {
     "name": "stdout",
     "output_type": "stream",
     "text": [
      "PINK FAIRY ARMADILLO\n",
      "OKAPI\n",
      "GLAUCUS ATLANTICUS\n",
      "THE MANED WOLF\n",
      "FOSSA\n",
      "JAPANESE SPIDER CRAB\n",
      "PACU FISH\n",
      "SLOW LORIS\n"
     ]
    }
   ],
   "source": [
    "#b. Print out the list in all caps, then in all lower case.\n",
    "o_upper = [ organism.upper() for organism in organisms ]\n",
    "\n",
    "for o in o_upper :\n",
    "    print o"
   ]
  },
  {
   "cell_type": "code",
   "execution_count": 31,
   "metadata": {
    "collapsed": false
   },
   "outputs": [
    {
     "name": "stdout",
     "output_type": "stream",
     "text": [
      "Pink Fairy Armadillo\tSlow Loris\n",
      "Okapi\n"
     ]
    }
   ],
   "source": [
    "#c. Print out the names of the first and last organisms on your list,\n",
    "#separated by a tab.\n",
    "print organisms[0] + '\\t' + organisms[-1]\n",
    "\n",
    "#d. Print out the name of every second organism in your list.\n",
    "print organisms[1]\n",
    "\n"
   ]
  },
  {
   "cell_type": "code",
   "execution_count": 42,
   "metadata": {
    "collapsed": false
   },
   "outputs": [
    {
     "name": "stdout",
     "output_type": "stream",
     "text": [
      "Slow Loris\n",
      "Pacu Fish\n",
      "Japanese Spider Crab\n",
      "Fossa\n",
      "The Maned Wolf\n",
      "Glaucus Atlanticus\n",
      "Okapi\n",
      "Pink Fairy Armadillo\n"
     ]
    }
   ],
   "source": [
    "#e. Make a new list that names the same organisms as the first list, but in\n",
    "#the reverse order. Print out the new list.\n",
    "o_rev = organisms[::-1]\n",
    "for o in o_rev:\n",
    "    print o"
   ]
  },
  {
   "cell_type": "markdown",
   "metadata": {},
   "source": [
    "### Ex2"
   ]
  },
  {
   "cell_type": "code",
   "execution_count": 45,
   "metadata": {
    "collapsed": false
   },
   "outputs": [
    {
     "name": "stdout",
     "output_type": "stream",
     "text": [
      "Does Albert Einstein like apple ?\n",
      "Does Albert Einstein like lasagna ?\n",
      "Does Albert Einstein like pasta ?\n",
      "Does Isaac Newton like apple ?\n",
      "Does Isaac Newton like lasagna ?\n",
      "Does Isaac Newton like pasta ?\n"
     ]
    }
   ],
   "source": [
    "# Make two lists, one giving the names of three scientists, \n",
    "\n",
    "scientists = ['Albert Einstein','Isaac Newton']\n",
    "\n",
    "# and the other giving the names of your three favourite foods. \n",
    "\n",
    "foods = ['apple', 'lasagna', 'pasta']\n",
    "\n",
    "# Using loops, print statements asking \n",
    "# each scientist whether they like each food.\n",
    "for s in scientists :\n",
    "    for f in foods :\n",
    "        print 'Does ' + s + ' like ' + f + ' ?'"
   ]
  },
  {
   "cell_type": "markdown",
   "metadata": {},
   "source": [
    "### Ex3 \n",
    "Write a program that carries out the following tasks:"
   ]
  },
  {
   "cell_type": "code",
   "execution_count": null,
   "metadata": {
    "collapsed": true
   },
   "outputs": [],
   "source": [
    "# a. Using a loop, make a list of the first 20 Fibonacci numbers. If you don’t\n",
    "# know what a Fibonacci number is, look it up! Print out the list. (This\n",
    "# may be tricky. You are allowed to specify the first two numbers of the\n",
    "# sequence)\n",
    "\n",
    "\n",
    "\n",
    "# b. Using the list generated in 2(a), make a list of the square roots of the\n",
    "# first 20 Fibonacci numbers, using a for loop. Print out this new list.\n",
    "\n",
    "# c. Using the list generated in 2(a), make a list of the square roots of the\n",
    "# first 20 Fibonacci numbers, using list comprehension. Print out this\n",
    "# list.\n",
    "\n",
    "# d. Find the average of the third through seventh Fibonacci numbers, and\n",
    "# print it out.\n",
    "\n",
    "# e. Again find the average of the third through seventh Fibonacci\n",
    "# numbers, but in a different way than you did it in 2(d). Print it out."
   ]
  }
 ],
 "metadata": {
  "kernelspec": {
   "display_name": "Python 2",
   "language": "python",
   "name": "python2"
  },
  "language_info": {
   "codemirror_mode": {
    "name": "ipython",
    "version": 2
   },
   "file_extension": ".py",
   "mimetype": "text/x-python",
   "name": "python",
   "nbconvert_exporter": "python",
   "pygments_lexer": "ipython2",
   "version": "2.7.11"
  }
 },
 "nbformat": 4,
 "nbformat_minor": 0
}
