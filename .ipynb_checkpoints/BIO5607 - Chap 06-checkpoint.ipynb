{
 "cells": [
  {
   "cell_type": "markdown",
   "metadata": {},
   "source": [
    "# Introduction to Dictionaries\n",
    "presented by : Berthin B."
   ]
  },
  {
   "cell_type": "markdown",
   "metadata": {},
   "source": [
    "### Objectives :\n",
    "-  Basic manipulation with dictionaries\n",
    "-  Loop trough dictionaries\n",
    "-  Nest dictionaries"
   ]
  },
  {
   "cell_type": "markdown",
   "metadata": {},
   "source": [
    "### A Simple Dictionary \n",
    "\n",
    "Python dictionary is _unorderd collection of items_ ( the data is not stored in a particular order)\n",
    "\n",
    "A dictionary contains **key:value** pair\n",
    "\n",
    "#### Rules :\n",
    "-  keys must *immutable* object (string, int, float)\n",
    "-  keys must be **unique**\n",
    "\n",
    "#### Code :\n",
    "```python\n",
    "dictionary = {'keys' : 'value'}\n",
    "```\n",
    "\n"
   ]
  },
  {
   "cell_type": "markdown",
   "metadata": {},
   "source": [
    "### Exemple :  bowling \n",
    "\n",
    "#### Rules :\n",
    "-  A game is ten rounds\n",
    "-  Each round a player get 2 chances\n",
    "-  A strike = 10 pts + the score of your next rounds\n",
    "-  A Spare = 10 pts + the score of the first ball of the next round"
   ]
  },
  {
   "cell_type": "code",
   "execution_count": 33,
   "metadata": {
    "collapsed": false
   },
   "outputs": [],
   "source": [
    "### Working with Dictionaries \n",
    "\n",
    "# I have one player at the beginning \n",
    "# Initialize the list\n",
    "\n",
    "# player_1 = {'round': 1, 'score': 10}\n",
    "\n",
    "# player_1 = {['round']: 1, 'score': 10}\n",
    "\n",
    "# player_1 = {'round': 1, 'round': 5, 'round': 28} # return the last key : value you enter in the dictionary\n",
    "\n",
    "# print(player_1)\n",
    "\n"
   ]
  },
  {
   "cell_type": "markdown",
   "metadata": {},
   "source": [
    "### Accessing Values in a Dictinary\n",
    "\n",
    "#### Code :\n",
    "```python\n",
    "dictionary['keys'] = 'value'\n",
    "```"
   ]
  },
  {
   "cell_type": "code",
   "execution_count": 18,
   "metadata": {
    "collapsed": false
   },
   "outputs": [
    {
     "name": "stdout",
     "output_type": "stream",
     "text": [
      "player_1 is at round : 1 and his score is 10\n"
     ]
    }
   ],
   "source": [
    "# I want to know how many rounds player_1 has played\n",
    "print(\"player_1 is at round :\" + \" \" + str(player_1['round']) + \" and his score is \" + str(player_1['score']))\n"
   ]
  },
  {
   "cell_type": "markdown",
   "metadata": {},
   "source": [
    "#### Adding New Key-Value Pairs "
   ]
  },
  {
   "cell_type": "code",
   "execution_count": null,
   "metadata": {
    "collapsed": true
   },
   "outputs": [],
   "source": [
    "# I don't know his name I want to add it in my dictionnary\n",
    "player_1['first name'] = \"Berthin\"\n",
    "print(player_1)\n",
    "\n"
   ]
  },
  {
   "cell_type": "markdown",
   "metadata": {},
   "source": [
    "#### Starting with an Empty Dictionary"
   ]
  },
  {
   "cell_type": "code",
   "execution_count": 29,
   "metadata": {
    "collapsed": false
   },
   "outputs": [],
   "source": [
    "# We want to add a new player in the game\n",
    "player_2 = {}\n",
    "#print(player_2)\n",
    "\n",
    "player_2['first name'] = \"Julia\"\n",
    "player_2['round'] = 0\n",
    "player_2['score'] = 0\n",
    "#print(player_2)\n",
    "\n",
    "# I want to update the score of player_2 using if statement based\n",
    "# wether he/she did a 'strike' or 'spare' \n"
   ]
  },
  {
   "cell_type": "markdown",
   "metadata": {},
   "source": [
    "#### Modifying Values in a Dictionary"
   ]
  },
  {
   "cell_type": "code",
   "execution_count": 30,
   "metadata": {
    "collapsed": true
   },
   "outputs": [],
   "source": [
    "player_1['round'] = 2\n",
    "player_1['score'] = 10 + 4 + 5 + 4 + 5 \n",
    "# print(player_1)"
   ]
  },
  {
   "cell_type": "markdown",
   "metadata": {},
   "source": [
    "### Removing Key-Value Pairs"
   ]
  },
  {
   "cell_type": "code",
   "execution_count": 31,
   "metadata": {
    "collapsed": true
   },
   "outputs": [],
   "source": [
    "# we use the method __del__ to remove an entry from the dictionary\n",
    "del player_2['score']\n",
    "# print (player_2)"
   ]
  },
  {
   "cell_type": "markdown",
   "metadata": {},
   "source": [
    "## Looping Through a Dictionary\n",
    "\n",
    "#### Code :\n",
    "```python\n",
    "for key, value in player_2.items():\n",
    "    print(\"\\nKey: \" + str(key))\n",
    "    print(\"\\nValue: \" + str(value))\n",
    "\n",
    "```"
   ]
  },
  {
   "cell_type": "code",
   "execution_count": 38,
   "metadata": {
    "collapsed": false
   },
   "outputs": [],
   "source": [
    "# for key, value in player_2.items():\n",
    "#    print(\"\\nKey: \" + str(key))\n",
    "#    print(\"\\nValue: \" + str(value))"
   ]
  },
  {
   "cell_type": "markdown",
   "metadata": {},
   "source": [
    "\n",
    "### Looping trough keys\n",
    "\n",
    "#### Code :\n",
    "```python\n",
    "for key in player_2.keys():\n",
    "    print(\"\\nKey: \" + str(key))\n",
    "\n",
    "for key in player_2:\n",
    "    print(\"\\nKey: \" + str(key))\n",
    "```"
   ]
  },
  {
   "cell_type": "code",
   "execution_count": 37,
   "metadata": {
    "collapsed": false
   },
   "outputs": [],
   "source": [
    "# default : \n",
    "#for key in player_2.keys():\n",
    "#    print(\"\\nKey: \" + str(key))\n",
    "\n",
    "#for key in player_2:\n",
    "#    print(\"\\nKey: \" + str(key))\n",
    "\n"
   ]
  },
  {
   "cell_type": "markdown",
   "metadata": {},
   "source": [
    "### Looping Through a Dictionary’s Keys in Order \n",
    "\n",
    "We can use the method _sorterd()_ to give Keys in Order "
   ]
  },
  {
   "cell_type": "code",
   "execution_count": 43,
   "metadata": {
    "collapsed": false
   },
   "outputs": [
    {
     "name": "stdout",
     "output_type": "stream",
     "text": [
      "The order for the players are :\n",
      "player : Player_1\n",
      "player : Player_2\n",
      "player : Player_3\n"
     ]
    }
   ],
   "source": [
    "### Looping Through a Dictionary’s Keys in Order \n",
    "\n",
    "scores = {\n",
    "    'player_2' : 37,\n",
    "    'player_1' : 28,\n",
    "    'player_3' : 45\n",
    "}\n",
    "\n",
    "print(\"The order for the players are :\")\n",
    "for name in sorted(scores.keys()):\n",
    "    print( \"player : \" + name.title())\n"
   ]
  },
  {
   "cell_type": "markdown",
   "metadata": {},
   "source": [
    "### Looping Through All Values in a Dictionary \n",
    "\n",
    "#### Code :\n",
    "```python\n",
    "\n",
    "for value in scores.values():\n",
    "    print(\"\\nValue: \" + str(value))\n",
    "```\n"
   ]
  },
  {
   "cell_type": "code",
   "execution_count": 50,
   "metadata": {
    "collapsed": false
   },
   "outputs": [
    {
     "name": "stdout",
     "output_type": "stream",
     "text": [
      "\n",
      "Value: 37\n",
      "\n",
      "Value: 45\n",
      "\n",
      "Value: 28\n"
     ]
    }
   ],
   "source": [
    "for value in scores.values():\n",
    "    print(\"\\nValue: \" + str(value))"
   ]
  },
  {
   "cell_type": "markdown",
   "metadata": {},
   "source": [
    "###  Ordered Values\n",
    "\n",
    "we can use the method _set()_ to \"order\" the list, but this method return a list of __unique values__"
   ]
  },
  {
   "cell_type": "code",
   "execution_count": null,
   "metadata": {
    "collapsed": true
   },
   "outputs": [],
   "source": [
    "# Now we want the value to be ordered \n",
    "\n",
    "print(\"\\nThe score for the players are :\")\n",
    "for score in set(scores.values()):\n",
    "    print( \"\\nScore : \" + str(score))\n",
    "\n"
   ]
  },
  {
   "cell_type": "markdown",
   "metadata": {},
   "source": [
    "# Nesting Dictionaries\n",
    "### A List in a Dictionary"
   ]
  },
  {
   "cell_type": "code",
   "execution_count": 51,
   "metadata": {
    "collapsed": false
   },
   "outputs": [
    {
     "name": "stdout",
     "output_type": "stream",
     "text": [
      "{'score_p_3': [0, 12, 2, 19, 9, 2, 9, 14, 9, 0], 'score_p_2': [0, 12, 2, 19, 9, 2, 9, 14, 9, 0], 'score_p_1': [0, 12, 8, 19, 9, 2, 9, 14, 9, 0]}\n"
     ]
    }
   ],
   "source": [
    "#example 1 : \n",
    "\n",
    "score_p_1 = [0,12,8, 19, 9, 2,9,14,9,0]\n",
    "score_p_2 = [0,12,2, 19, 9, 2,9,14,9,0]\n",
    "score_p_3 = [0,35,15, 5, 9, 2,9,14,9,0]\n",
    "\n",
    "bowling_game  = { \n",
    "    'score_p_1': score_p_1,\n",
    "    'score_p_2': score_p_2,\n",
    "    'score_p_3': score_p_2,\n",
    "}\n",
    "\n",
    "print bowling_game\n",
    "\n",
    "# challenge we want to know who has the highest score "
   ]
  },
  {
   "cell_type": "markdown",
   "metadata": {},
   "source": [
    "### A Dictionary in a Dictionary"
   ]
  },
  {
   "cell_type": "code",
   "execution_count": null,
   "metadata": {
    "collapsed": true
   },
   "outputs": [],
   "source": []
  }
 ],
 "metadata": {
  "kernelspec": {
   "display_name": "Python 2",
   "language": "python",
   "name": "python2"
  },
  "language_info": {
   "codemirror_mode": {
    "name": "ipython",
    "version": 2
   },
   "file_extension": ".py",
   "mimetype": "text/x-python",
   "name": "python",
   "nbconvert_exporter": "python",
   "pygments_lexer": "ipython2",
   "version": "2.7.11"
  }
 },
 "nbformat": 4,
 "nbformat_minor": 2
}
