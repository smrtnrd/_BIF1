{
 "cells": [
  {
   "cell_type": "markdown",
   "metadata": {},
   "source": [
    "### BIOL5516 Assignment 04\n",
    "\n",
    "#### Created :  *Berthin  Bitja*\n",
    "\n",
    "\n",
    "### Note :\n",
    "For each of the following questions, please submit your code and a screenshot of the output. Note that for some questions, there are better (or worse) ways to accomplish a task, and that you should try to find the best solution! Please use comments to indicate which question you are addressing, and to describe what you are doing."
   ]
  },
  {
   "cell_type": "code",
   "execution_count": 2,
   "metadata": {},
   "outputs": [
    {
     "name": "stdout",
     "output_type": "stream",
     "text": [
      "The autoreload extension is already loaded. To reload it, use:\n",
      "  %reload_ext autoreload\n"
     ]
    }
   ],
   "source": [
    "# Load the \"autoreload\" extension\n",
    "%load_ext autoreload\n",
    "\n",
    "# always reload modules marked with \"%aimport\"\n",
    "%autoreload 1\n",
    "\n",
    "import os\n",
    "import sys\n",
    "\n",
    "# add the 'src' directory as one where we can import modules\n",
    "src_dir = os.path.join(os.getcwd(), os.pardir, 'src')\n",
    "sys.path.append(src_dir)\n",
    "\n",
    "# import my method from the source code\n",
    "#%aimport preprocess.build_features\n",
    "#from preprocess.build_features import remove_invalid_data"
   ]
  },
  {
   "cell_type": "markdown",
   "metadata": {},
   "source": [
    "### Ex1\n",
    "\n",
    "Write a program that reads in the data from “datafile1.txt”, which gives the test scores for 10 students in BIOL5516. Calculate the mean test score; make sure that your calculations for finding the mean are contained in a function that you’ve written."
   ]
  },
  {
   "cell_type": "code",
   "execution_count": 38,
   "metadata": {},
   "outputs": [
    {
     "name": "stdout",
     "output_type": "stream",
     "text": [
      "The mean test score for the 10 students BIO551s is 84.1\n"
     ]
    }
   ],
   "source": [
    "def mean(grades):\n",
    "    average = sum(grades)/len(grades)\n",
    "    return average\n",
    "    \n",
    "with open(\"./_questions/datafile1.txt\") as file_object :\n",
    "    contents = file_object.read()\n",
    "    \n",
    "    # split the data into a list of numbers, remove the last entry which is empty\n",
    "students_grade = [ grade for grade in contents.split('\\n')][:-1]\n",
    "    # conver students grade into float integer for calculation\n",
    "students_grade = map(float, students_grade)\n",
    "s_mean = mean(students_grade)\n",
    "\n",
    "print('The mean test score for the 10 students BIO551s is {}'.format(s_mean))"
   ]
  },
  {
   "cell_type": "markdown",
   "metadata": {},
   "source": [
    "### Ex2\n",
    "\n",
    "Now consider “datafile2.txt”, which gives names, test scores, and Space Invader scores for the 10 students, separated by tabs. Read in the data and calculate the mean test score and the mean Space Invader score. Plot test scores by Space Invader scores. Do you notice anything?\n",
    "\n"
   ]
  },
  {
   "cell_type": "code",
   "execution_count": 60,
   "metadata": {},
   "outputs": [
    {
     "name": "stdout",
     "output_type": "stream",
     "text": [
      "The mean test score is 84.1\n",
      "The mean Space Invader test score is 19300.0\n"
     ]
    }
   ],
   "source": [
    "def mean(grades):\n",
    "    average = sum(grades)/len(grades)\n",
    "    return average\n",
    "\n",
    "# read the data\n",
    "with open(\"./_questions/datafile2.txt\") as f :\n",
    "    lines = f.readlines()\n",
    "\n",
    "#remove new lines at the end\n",
    "lines = [ line.strip('\\n') for line in lines ]\n",
    "\n",
    "#create empty list\n",
    "\n",
    "s_names = []\n",
    "t_scores = []\n",
    "si_scores = []\n",
    "\n",
    "for line in lines :\n",
    "    l = line.split('\\t')\n",
    "    s_names.append(str(l[0]))\n",
    "    t_scores.append(float(l[1]))\n",
    "    si_scores.append(float(l[2]))\n",
    "\n",
    "t_mean = mean(t_scores)\n",
    "print('The mean test score is {}'.format(t_mean))\n",
    "\n",
    "si_mean = mean(si_scores)\n",
    "print('The mean Space Invader test score is {}'.format(si_mean))"
   ]
  },
  {
   "cell_type": "code",
   "execution_count": 63,
   "metadata": {},
   "outputs": [
    {
     "data": {
      "image/png": "[encoded data removed]",
      "text/plain": [
       "<matplotlib.figure.Figure at 0x10ed62790>"
      ]
     },
     "metadata": {
      "image/png": {
       "height": 250,
       "width": 390
      }
     },
     "output_type": "display_data"
    }
   ],
   "source": [
    "import matplotlib.pyplot as plt\n",
    "import numpy as np\n",
    "%matplotlib inline\n",
    "%config InlineBackend.figure_format = 'retina'\n",
    "plt.scatter(t_scores, si_scores)\n",
    "plt.show();"
   ]
  },
  {
   "cell_type": "markdown",
   "metadata": {},
   "source": [
    "We see that the space score and the test score are positively correlated"
   ]
  },
  {
   "cell_type": "markdown",
   "metadata": {},
   "source": [
    "### Ex3\n",
    "Now write a program that can report back the data from “datafile2.txt”. Your program should read the data into a dictionary, and then prompt the user for a student name. The program should report back the test score and Space Invader score for the student. Remember to check for errors."
   ]
  },
  {
   "cell_type": "code",
   "execution_count": 78,
   "metadata": {},
   "outputs": [],
   "source": [
    "\n",
    "def get_dict():\n",
    "    #create empty dic\n",
    "    d = {}\n",
    "    try:\n",
    "        # read the data\n",
    "        with open(\"./_questions/datafile2.txt\") as f :\n",
    "            lines = f.readlines()\n",
    "            #remove new lines at the end\n",
    "            lines = [ line.strip('\\n') for line in lines ]\n",
    "        # read the data into a dictionary\n",
    "        for line in lines :\n",
    "            l = line.split('\\t')\n",
    "            print l\n",
    "            d[str(l[0])] = [float(l[1]), float(l[2])]\n",
    "    except FileNotFoundError:\n",
    "        return None\n",
    "    else:\n",
    "        return d\n",
    "    \n",
    "def get_student_score():\n",
    "    \"\"\"prompt for the student username\"\"\"\n",
    "    s_name = raw_input(\"What is your name? \")\n",
    "    d = get_dict()\n",
    "    # case 1: test +\n",
    "    if str(s_name) in d :\n",
    "        # report back the test score and Space Invader score for the student\n",
    "        print(\"Hello, {}\\n Your score for Space Invader is: {}\\n Your score for the student test is: {}\".format(s_name,d[s_name][0],d[s_name][1]))\n",
    "    # case 2: test -\n",
    "    else:\n",
    "        print(\"Your name wasn't found in the system\")\n"
   ]
  },
  {
   "cell_type": "code",
   "execution_count": 79,
   "metadata": {},
   "outputs": [
    {
     "name": "stdout",
     "output_type": "stream",
     "text": [
      "['Trillian', '91', '48900']\n",
      "['Arthur', '85', '5000']\n",
      "['Zaphod', '99', '67500']\n",
      "['Ford', '83', '3600']\n",
      "['Marvin', '87', '6800']\n",
      "['Effrafax', '90', '8000']\n",
      "['Agrajag', '52', '50']\n",
      "['Fenchurch', '78', '3000']\n",
      "['Gail', '84', '4150']\n",
      "['Lunkwill', '92', '46000']\n",
      "Your name wasn't found in the system\n"
     ]
    }
   ],
   "source": [
    "get_student_score()"
   ]
  },
  {
   "cell_type": "code",
   "execution_count": 80,
   "metadata": {},
   "outputs": [
    {
     "name": "stdout",
     "output_type": "stream",
     "text": [
      "['Trillian', '91', '48900']\n",
      "['Arthur', '85', '5000']\n",
      "['Zaphod', '99', '67500']\n",
      "['Ford', '83', '3600']\n",
      "['Marvin', '87', '6800']\n",
      "['Effrafax', '90', '8000']\n",
      "['Agrajag', '52', '50']\n",
      "['Fenchurch', '78', '3000']\n",
      "['Gail', '84', '4150']\n",
      "['Lunkwill', '92', '46000']\n",
      "Hello, Arthur\n",
      " Your score for Space Invader is: 85.0\n",
      " Your score for the student test is: 5000.0\n"
     ]
    }
   ],
   "source": [
    "get_student_score()"
   ]
  },
  {
   "cell_type": "markdown",
   "metadata": {},
   "source": [
    "### Ex4\n",
    "\n",
    "Write a program that finds the names of all of the files and directories within your current directory, and then reports back the length of each file or directory name."
   ]
  },
  {
   "cell_type": "code",
   "execution_count": 96,
   "metadata": {},
   "outputs": [
    {
     "name": "stdout",
     "output_type": "stream",
     "text": [
      "my current directory: /Users/bbuildman/Documents/Developer/GitHub/001-BIF5607\n",
      "_questions| size: 288\n",
      "BIO5516 Assignment 03.py| size: 1687\n",
      "BIO5607 - Chap 06.ipynb| size: 16130\n",
      "BIOL5516 Assignment 04.ipynb| size: 32887\n",
      "ass_3Q2.py| size: 1185\n",
      "BIO5516 Assignment 03.html| size: 254113\n",
      ".DS_Store| size: 6148\n",
      "ass_3Q3.py| size: 726\n",
      "BIOL5516 Assignment 02.ipynb| size: 10056\n",
      "Untitled.ipynb| size: 72\n",
      "BIO5516 Assignment 03.ipynb| size: 2551\n",
      "_courses| size: 480\n",
      "dna.py| size: 456\n",
      "BIOL5516 Assignment 01.ipynb| size: 9230\n",
      "BIO5516 Ass 03.py| size: 518\n",
      "README.md| size: 618\n",
      "_classes| size: 128\n",
      "module.pyc| size: 785\n",
      ".ipynb_checkpoints| size: 256\n",
      "module.py| size: 533\n",
      ".git| size: 512\n",
      "ass_3Q4.py| size: 568\n",
      ".idea| size: 256\n"
     ]
    }
   ],
   "source": [
    "import os\n",
    "\n",
    "def get_cwd_files(path):\n",
    "    \"\"\"return the names of the files and directory in the current directories\n",
    "    \"\"\"\n",
    "    print(\"my current directory: {}\".format(path))\n",
    "    for file in os.listdir(path): \n",
    "        size = os.path.getsize(file)\n",
    "        print(\"{}| size: {}\".format(file,size))\n",
    "work = os.getcwd()\n",
    "get_cwd_files(work)"
   ]
  }
 ],
 "metadata": {
  "kernelspec": {
   "display_name": "Python 2",
   "language": "python",
   "name": "python2"
  },
  "language_info": {
   "codemirror_mode": {
    "name": "ipython",
    "version": 2
   },
   "file_extension": ".py",
   "mimetype": "text/x-python",
   "name": "python",
   "nbconvert_exporter": "python",
   "pygments_lexer": "ipython2",
   "version": "2.7.14"
  }
 },
 "nbformat": 4,
 "nbformat_minor": 2
}
