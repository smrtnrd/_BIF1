{
 "cells": [
  {
   "cell_type": "markdown",
   "metadata": {},
   "source": [
    "# Dictionaries\n",
    "ref : python crash course"
   ]
  },
  {
   "cell_type": "markdown",
   "metadata": {},
   "source": [
    "### Objectives :\n",
    "-  better understanding of dictionaries\n",
    "-  loop trough dictionaries\n",
    "-  dictionaries inside list\n",
    "-  dictionaries inside dictionaries"
   ]
  },
  {
   "cell_type": "markdown",
   "metadata": {},
   "source": [
    "### A Simple Dictionary \n",
    "\n",
    "Python dictionary is _unorderd collection of items_ ( the data is not stored in a particular order)\n",
    "\n",
    "A dictionary contains **key:value** pair\n",
    "\n",
    "#### Rules :\n",
    "-  keys must *immutable* object (string, int, float)\n",
    "-  keys must be **unique**\n"
   ]
  },
  {
   "cell_type": "code",
   "execution_count": 8,
   "metadata": {},
   "outputs": [
    {
     "name": "stdout",
     "output_type": "stream",
     "text": [
      "U\n"
     ]
    }
   ],
   "source": [
    "### Working with Dictionaries \n",
    "\n",
    "# I want to transcript DNA to RAN\n",
    "\n",
    "dna_dic = {'A': 'U', 'C': 'G', 'T': 'A', 'G': 'C'}\n",
    "\n",
    "print(dna_dic['A'])\n",
    "# or using dict()\n",
    "\n",
    "dna_dic = dict({'A': 'U', 'C': 'G', 'T': 'A', 'G': 'C'})\n",
    "\n",
    "\n",
    "\n",
    "### Accessing Values in a Dictionary \n",
    "### Adding New Key-Value Pairs \n",
    "### Starting with an Empty Dictionary\n",
    "### Modifying Values in a Dictionary\n",
    "### Removing Key-Value Pairs\n",
    "### A Dictionary of Similar Objects\n",
    "### Exercise 6-1: Person\n",
    "### Exercise 6-2: Favorite Numbers\n",
    "### Exercise 6-3: Glossary \n",
    "### Looping Through a Dictionary\n",
    "### Looping Through All Key-Value Pairs\n",
    "### Looping Through All the Keys in a Dictionary \n",
    "### Looping Through a Dictionary’s Keys in Order \n",
    "### Looping Through All Values in a Dictionary \n",
    "### A List of Dictionaries\n",
    "### A List in a Dictionary"
   ]
  },
  {
   "cell_type": "code",
   "execution_count": null,
   "metadata": {
    "collapsed": true
   },
   "outputs": [],
   "source": []
  }
 ],
 "metadata": {
  "kernelspec": {
   "display_name": "Python 3",
   "language": "python",
   "name": "python3"
  },
  "language_info": {
   "codemirror_mode": {
    "name": "ipython",
    "version": 3
   },
   "file_extension": ".py",
   "mimetype": "text/x-python",
   "name": "python",
   "nbconvert_exporter": "python",
   "pygments_lexer": "ipython3",
   "version": "3.6.1"
  }
 },
 "nbformat": 4,
 "nbformat_minor": 2
}
