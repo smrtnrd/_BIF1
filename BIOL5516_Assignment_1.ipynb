{
 "cells": [
  {
   "cell_type": "markdown",
   "metadata": {},
   "source": [
    "# BIOL5516\n",
    "\n",
    "### Note :\n",
    "For each of the following questions, please submit your code and a screenshot of the output. Note that for some questions, there are better (or worse) ways to accomplish a task, and that you should try to find the best solution! Please use comments to indicate which question you are addressing, and to describe what you are doing."
   ]
  },
  {
   "cell_type": "markdown",
   "metadata": {},
   "source": [
    "### Ex 1\n",
    "\n",
    "Make a list of your 8 favourite organisms, capitalizing the first letter of each. Print out the name of each organism, followed by “ is one of my\n",
    "favourite creatures!”."
   ]
  },
  {
   "cell_type": "code",
   "execution_count": null,
   "metadata": {
    "collapsed": true
   },
   "outputs": [],
   "source": [
    "#a. Make a list of your 8 favourite organisms, capitalizing \n",
    "#the first letter of each. Print out the name of each organism, \n",
    "# followed by “ is one of my favourite creatures!”.\n",
    "\n",
    "\n",
    "\n",
    "\n",
    "#b. Print out the list in all caps, then in all lower case.\n",
    "\n",
    "#c. Print out the names of the first and last organisms on your list,\n",
    "#separated by a tab.\n",
    "\n",
    "#d. Print out the name of every second organism in your list.\n",
    "\n",
    "#e. Make a new list that names the same organisms as the first list, but in\n",
    "#the reverse order. Print out the new list."
   ]
  }
 ],
 "metadata": {
  "kernelspec": {
   "display_name": "Python 2",
   "language": "python",
   "name": "python2"
  },
  "language_info": {
   "codemirror_mode": {
    "name": "ipython",
    "version": 2
   },
   "file_extension": ".py",
   "mimetype": "text/x-python",
   "name": "python",
   "nbconvert_exporter": "python",
   "pygments_lexer": "ipython2",
   "version": "2.7.11"
  }
 },
 "nbformat": 4,
 "nbformat_minor": 0
}
