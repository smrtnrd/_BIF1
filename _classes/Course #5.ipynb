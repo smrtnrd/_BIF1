{
 "cells": [
  {
   "cell_type": "markdown",
   "metadata": {},
   "source": [
    "# Note : 28.09.17\n",
    "\n",
    "## _If_ Statements \n",
    "\n",
    "#### Ryan Collins"
   ]
  },
  {
   "cell_type": "markdown",
   "metadata": {},
   "source": [
    "#### _if_ statement with list -> check if the list is empt"
   ]
  },
  {
   "cell_type": "code",
   "execution_count": 3,
   "metadata": {
    "collapsed": false
   },
   "outputs": [
    {
     "name": "stdout",
     "output_type": "stream",
     "text": [
      "nothing\n"
     ]
    }
   ],
   "source": [
    "\n",
    "\n",
    "l = []\n",
    "if l :\n",
    "    print 'buildman'\n",
    "else :\n",
    "    print 'nothing'\n",
    "    "
   ]
  },
  {
   "cell_type": "markdown",
   "metadata": {},
   "source": [
    "# Regular expression (regex)\n",
    "\n",
    "They allow to match piece of text"
   ]
  },
  {
   "cell_type": "code",
   "execution_count": 8,
   "metadata": {
    "collapsed": false
   },
   "outputs": [
    {
     "name": "stdout",
     "output_type": "stream",
     "text": [
      "0\n"
     ]
    }
   ],
   "source": [
    "import re\n",
    "\n",
    "p = re.compile('Biol552')\n",
    "m = p.search(\"Biol552 is fun\")\n",
    "print m.start() # return the position of the first digit \n",
    "\n",
    "# we can also use Metacharacter"
   ]
  },
  {
   "cell_type": "markdown",
   "metadata": {},
   "source": [
    "## Repetion char examples\n",
    "\n",
    "## Function\n",
    "\n",
    "##### match()  : look at the beginning of the string\n",
    "##### search() : s\n",
    "##### findall() : return all the position where  match in the list \n",
    "bi adding the + sign we are grouping the match instead of looking at them individuall"
   ]
  },
  {
   "cell_type": "code",
   "execution_count": null,
   "metadata": {
    "collapsed": true
   },
   "outputs": [],
   "source": []
  }
 ],
 "metadata": {
  "kernelspec": {
   "display_name": "Python 2",
   "language": "python",
   "name": "python2"
  },
  "language_info": {
   "codemirror_mode": {
    "name": "ipython",
    "version": 2
   },
   "file_extension": ".py",
   "mimetype": "text/x-python",
   "name": "python",
   "nbconvert_exporter": "python",
   "pygments_lexer": "ipython2",
   "version": "2.7.11"
  }
 },
 "nbformat": 4,
 "nbformat_minor": 0
}
